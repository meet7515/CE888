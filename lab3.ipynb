{
  "nbformat": 4,
  "nbformat_minor": 0,
  "metadata": {
    "colab": {
      "name": "Untitled1.ipynb",
      "provenance": [],
      "authorship_tag": "ABX9TyM3nFPW3dTCMM4H6up+sSrU",
      "include_colab_link": true
    },
    "kernelspec": {
      "name": "python3",
      "display_name": "Python 3"
    },
    "language_info": {
      "name": "python"
    }
  },
  "cells": [
    {
      "cell_type": "markdown",
      "metadata": {
        "id": "view-in-github",
        "colab_type": "text"
      },
      "source": [
        "<a href=\"https://colab.research.google.com/github/meet7515/CE888/blob/main/lab3.ipynb\" target=\"_parent\"><img src=\"https://colab.research.google.com/assets/colab-badge.svg\" alt=\"Open In Colab\"/></a>"
      ]
    },
    {
      "cell_type": "code",
      "metadata": {
        "id": "uDbJvyMtw7um"
      },
      "source": [
        "import matplotlib.pyplot as plt\n",
        "import numpy as np\n",
        "import pandas as pd\n",
        "\n",
        "from sklearn.dummy import DummyClassifier\n",
        "from sklearn.ensemble import RandomForestClassifier\n",
        "from sklearn.metrics import f1_score, plot_confusion_matrix, SCORERS\n",
        "from sklearn.model_selection import cross_val_score\n",
        "from sklearn.model_selection import GridSearchCV\n",
        "from sklearn.model_selection import train_test_split\n",
        "from sklearn.preprocessing import LabelEncoder"
      ],
      "execution_count": null,
      "outputs": []
    },
    {
      "cell_type": "code",
      "metadata": {
        "id": "kSOYcOo7xa7D"
      },
      "source": [
        "df_raw = pd.read_csv('https://github.com/albanda/CE888/raw/master/lab3/bank-additional-full.csv', delimiter = ';')\n",
        "df = df_raw.drop(['duration'], axis=1)"
      ],
      "execution_count": null,
      "outputs": []
    },
    {
      "cell_type": "code",
      "metadata": {
        "id": "Cf-SG3hnxeAa"
      },
      "source": [
        "\n",
        "#check for empty rows\n",
        "print(\"Number of rows before dropping NaNs: %d\" % len(df))\n",
        "df = df.dropna()\n",
        "print(\"Number of rows after dropping NaNs: %d\" % len(df))"
      ],
      "execution_count": null,
      "outputs": []
    },
    {
      "cell_type": "markdown",
      "metadata": {
        "id": "mt1PuuykxhaW"
      },
      "source": [
        "Number of rows before dropping NaNs: 41188\n",
        "Number of rows after dropping NaNs: 41188"
      ]
    },
    {
      "cell_type": "code",
      "metadata": {
        "id": "pHLZQehgxlG1"
      },
      "source": [
        "features = [col for col in df.columns[:-1]] # each column except the last one\n",
        "outcomes_of_interest = ['y']\n",
        "cat_features = [col for col in df.columns[1:10]] + ['poutcome']"
      ],
      "execution_count": null,
      "outputs": []
    },
    {
      "cell_type": "code",
      "metadata": {
        "id": "IBX2zZZrxn64"
      },
      "source": [
        "df[outcomes_of_interest] = df[outcomes_of_interest].apply(LabelEncoder().fit_transform)"
      ],
      "execution_count": null,
      "outputs": []
    },
    {
      "cell_type": "code",
      "metadata": {
        "id": "63qxJ8paxqfH"
      },
      "source": [
        "X_df = df[features].copy()\n",
        "y_df = df[outcomes_of_interest].copy()\n",
        "X_df = pd.get_dummies(X_df, columns=cat_features)"
      ],
      "execution_count": null,
      "outputs": []
    },
    {
      "cell_type": "code",
      "metadata": {
        "colab": {
          "base_uri": "https://localhost:8080/",
          "height": 214
        },
        "id": "CuW__xqDxtXh",
        "outputId": "e6d9e950-bd1c-463c-ed64-2fc3b5d895c7"
      },
      "source": [
        "X = X_df.values\n",
        "y = y_df.values.T[0]\n",
        "\n",
        "y_df.value_counts().plot(kind='bar')"
      ],
      "execution_count": 2,
      "outputs": [
        {
          "output_type": "error",
          "ename": "NameError",
          "evalue": "ignored",
          "traceback": [
            "\u001b[0;31m---------------------------------------------------------------------------\u001b[0m",
            "\u001b[0;31mNameError\u001b[0m                                 Traceback (most recent call last)",
            "\u001b[0;32m<ipython-input-2-648b90d8fbf0>\u001b[0m in \u001b[0;36m<module>\u001b[0;34m()\u001b[0m\n\u001b[0;32m----> 1\u001b[0;31m \u001b[0mX\u001b[0m \u001b[0;34m=\u001b[0m \u001b[0mX_df\u001b[0m\u001b[0;34m.\u001b[0m\u001b[0mvalues\u001b[0m\u001b[0;34m\u001b[0m\u001b[0;34m\u001b[0m\u001b[0m\n\u001b[0m\u001b[1;32m      2\u001b[0m \u001b[0my\u001b[0m \u001b[0;34m=\u001b[0m \u001b[0my_df\u001b[0m\u001b[0;34m.\u001b[0m\u001b[0mvalues\u001b[0m\u001b[0;34m.\u001b[0m\u001b[0mT\u001b[0m\u001b[0;34m[\u001b[0m\u001b[0;36m0\u001b[0m\u001b[0;34m]\u001b[0m\u001b[0;34m\u001b[0m\u001b[0;34m\u001b[0m\u001b[0m\n\u001b[1;32m      3\u001b[0m \u001b[0;34m\u001b[0m\u001b[0m\n\u001b[1;32m      4\u001b[0m \u001b[0my_df\u001b[0m\u001b[0;34m.\u001b[0m\u001b[0mvalue_counts\u001b[0m\u001b[0;34m(\u001b[0m\u001b[0;34m)\u001b[0m\u001b[0;34m.\u001b[0m\u001b[0mplot\u001b[0m\u001b[0;34m(\u001b[0m\u001b[0mkind\u001b[0m\u001b[0;34m=\u001b[0m\u001b[0;34m'bar'\u001b[0m\u001b[0;34m)\u001b[0m\u001b[0;34m\u001b[0m\u001b[0;34m\u001b[0m\u001b[0m\n",
            "\u001b[0;31mNameError\u001b[0m: name 'X_df' is not defined"
          ]
        }
      ]
    },
    {
      "cell_type": "code",
      "metadata": {
        "id": "g6YWwVfAx_2e"
      },
      "source": [
        "def imbalanceratio(negative, positive):\n",
        "    return negative/positive"
      ],
      "execution_count": null,
      "outputs": []
    },
    {
      "cell_type": "markdown",
      "metadata": {
        "id": "udXClqZ0x20-"
      },
      "source": [
        ""
      ]
    },
    {
      "cell_type": "code",
      "metadata": {
        "id": "wlc-l_KayEH6"
      },
      "source": [
        "imbalanceratio(y_df.value_counts()[1], y_df.value_counts()[0])"
      ],
      "execution_count": null,
      "outputs": []
    },
    {
      "cell_type": "markdown",
      "metadata": {
        "id": "1VkoZhoByHvI"
      },
      "source": [
        "0.126956331399803"
      ]
    },
    {
      "cell_type": "code",
      "metadata": {
        "id": "R1MHFXjGyKAZ"
      },
      "source": [
        "X_train, X_test, y_train, y_test = train_test_split(X, y, test_size=0.2, random_state=50, stratify=y)\n",
        "X_train.shape, X_test.shape"
      ],
      "execution_count": null,
      "outputs": []
    },
    {
      "cell_type": "markdown",
      "metadata": {
        "id": "bfVbNsTyyM5x"
      },
      "source": [
        "((32950, 62), (8238, 62))"
      ]
    },
    {
      "cell_type": "code",
      "metadata": {
        "id": "mwIB-XmryPXP"
      },
      "source": [
        "y_train.shape, y_test.shape"
      ],
      "execution_count": null,
      "outputs": []
    },
    {
      "cell_type": "markdown",
      "metadata": {
        "id": "ETWILIkYyShj"
      },
      "source": [
        ""
      ]
    },
    {
      "cell_type": "code",
      "metadata": {
        "id": "51iO42h7yWP0"
      },
      "source": [
        "dummy_clf = DummyClassifier(strategy='stratified')\n",
        "dummy_clf.fit(X_train, y_train)\n",
        "print(\"Dummy F1 Score: %.2f\" % f1_score(y_test, dummy_clf.predict(X_test)))"
      ],
      "execution_count": null,
      "outputs": []
    },
    {
      "cell_type": "markdown",
      "metadata": {
        "id": "3789vCniycXw"
      },
      "source": [
        "Dummy F1 Score: 0.10"
      ]
    },
    {
      "cell_type": "code",
      "metadata": {
        "id": "N-r9RwgqyXM6"
      },
      "source": [
        "SCORERS.keys()"
      ],
      "execution_count": null,
      "outputs": []
    },
    {
      "cell_type": "markdown",
      "metadata": {
        "id": "c4n2pattyfb5"
      },
      "source": [
        "dict_keys(['explained_variance', 'r2', 'max_error', 'neg_median_absolute_error', 'neg_mean_absolute_error', 'neg_mean_absolute_percentage_error', 'neg_mean_squared_error', 'neg_mean_squared_log_error', 'neg_root_mean_squared_error', 'neg_mean_poisson_deviance', 'neg_mean_gamma_deviance', 'accuracy', 'top_k_accuracy', 'roc_auc', 'roc_auc_ovr', 'roc_auc_ovo', 'roc_auc_ovr_weighted', 'roc_auc_ovo_weighted', 'balanced_accuracy', 'average_precision', 'neg_log_loss', 'neg_brier_score', 'adjusted_rand_score', 'rand_score', 'homogeneity_score', 'completeness_score', 'v_measure_score', 'mutual_info_score', 'adjusted_mutual_info_score', 'normalized_mutual_info_score', 'fowlkes_mallows_score', 'precision', 'precision_macro', 'precision_micro', 'precision_samples', 'precision_weighted', 'recall', 'recall_macro', 'recall_micro', 'recall_samples', 'recall_weighted', 'f1', 'f1_macro', 'f1_micro', 'f1_samples', 'f1_weighted', 'jaccard', 'jaccard_macro', 'jaccard_micro', 'jaccard_samples', 'jaccard_weighted'])"
      ]
    },
    {
      "cell_type": "code",
      "metadata": {
        "id": "UtQfDQeFyjY8"
      },
      "source": [
        "def cvscore(estimator, depth, state=50, folds=10):\n",
        "    cv = cross_val_score(RandomForestClassifier(n_estimators=estimator, max_depth=depth, random_state=state), X_train, y_train, cv=folds, scoring='f1')\n",
        "    print((\"F1 Score: %.2f\" % (cv.mean())))"
      ],
      "execution_count": null,
      "outputs": []
    },
    {
      "cell_type": "code",
      "metadata": {
        "id": "FnO6ZCC3ypP3"
      },
      "source": [
        "cvscore(100, 3)"
      ],
      "execution_count": null,
      "outputs": []
    },
    {
      "cell_type": "markdown",
      "metadata": {
        "id": "IRi4zaXOyqKJ"
      },
      "source": [
        "F1 Score: 0.26"
      ]
    },
    {
      "cell_type": "code",
      "metadata": {
        "id": "lNJH0mKOysUm"
      },
      "source": [
        "# Create the parameter grid\n",
        "param_grid = {\n",
        "     'n_estimators': [50, 75],\n",
        "     'max_depth': [3, None],\n",
        "     'min_samples_split': [2, 3],\n",
        "     'min_samples_leaf': [1, 2],\n",
        "     'max_features': [3, 'auto'],\n",
        "}\n",
        "# Create a base model\n",
        "rf = RandomForestClassifier(random_state=50, class_weight='balanced')\n",
        "# Instantiate the grid search model\n",
        "grid_search = GridSearchCV(estimator=rf, param_grid=param_grid, cv=10, scoring='f1', n_jobs=-1, verbose=2)\n",
        "grid_search.fit(X_train, y_train)"
      ],
      "execution_count": null,
      "outputs": []
    },
    {
      "cell_type": "markdown",
      "metadata": {
        "id": "mt28FyA-ywTz"
      },
      "source": [
        "\n",
        "# Create the parameter grid\n",
        "param_grid = {\n",
        "     'n_estimators': [50, 75],\n",
        "     'max_depth': [3, None],\n",
        "     'min_samples_split': [2, 3],\n",
        "     'min_samples_leaf': [1, 2],\n",
        "     'max_features': [3, 'auto'],\n",
        "}\n",
        "# Create a base model\n",
        "rf = RandomForestClassifier(random_state=50, class_weight='balanced')\n",
        "# Instantiate the grid search model\n",
        "grid_search = GridSearchCV(estimator=rf, param_grid=param_grid, cv=10, scoring='f1', n_jobs=-1, verbose=2)\n",
        "grid_search.fit(X_train, y_train)\n",
        "Fitting 10 folds for each of 32 candidates, totalling 320 fits\n",
        "GridSearchCV(cv=10,\n",
        "             estimator=RandomForestClassifier(class_weight='balanced',\n",
        "                                              random_state=50),\n",
        "             n_jobs=-1,\n",
        "             param_grid={'max_depth': [3, None], 'max_features': [3, 'auto'],\n",
        "                         'min_samples_leaf': [1, 2],\n",
        "                         'min_samples_split': [2, 3],\n",
        "                         'n_estimators': [50, 75]},\n",
        "             scoring='f1', verbose=2)"
      ]
    },
    {
      "cell_type": "code",
      "metadata": {
        "id": "iobqr4vjyxxk"
      },
      "source": [
        "grid_search.best_params_"
      ],
      "execution_count": null,
      "outputs": []
    },
    {
      "cell_type": "markdown",
      "metadata": {
        "id": "L0RqXi5my4Qy"
      },
      "source": [
        ""
      ]
    },
    {
      "cell_type": "code",
      "metadata": {
        "id": "bxi8Sb49zKi3"
      },
      "source": [
        "df_results = pd.DataFrame(grid_search.cv_results_)"
      ],
      "execution_count": null,
      "outputs": []
    },
    {
      "cell_type": "code",
      "metadata": {
        "id": "otK55Hp2zuPu"
      },
      "source": [
        "grid_search.best_score_"
      ],
      "execution_count": null,
      "outputs": []
    },
    {
      "cell_type": "markdown",
      "metadata": {
        "id": "swWUb1Wvzu1p"
      },
      "source": [
        "0.4958800337866209"
      ]
    },
    {
      "cell_type": "code",
      "metadata": {
        "id": "VehhM2Yazw5a"
      },
      "source": [
        "print(\"F1 Score: %.2f\" % f1_score(y_test, grid_search.predict(X_test)))"
      ],
      "execution_count": null,
      "outputs": []
    },
    {
      "cell_type": "markdown",
      "metadata": {
        "id": "-T5JNLxbzzG1"
      },
      "source": [
        "F1 Score: 0.50"
      ]
    },
    {
      "cell_type": "code",
      "metadata": {
        "id": "_uJhBQA_z1NJ"
      },
      "source": [
        "def top_x_features(x):\n",
        "    for i in range(x):\n",
        "        print(X_df.columns[[sorted(importance_sorted, reverse=True)[i][1]]])"
      ],
      "execution_count": null,
      "outputs": []
    },
    {
      "cell_type": "code",
      "metadata": {
        "id": "nyNJTGmxz5DC"
      },
      "source": [
        "def genenralizationerror(classifier):\n",
        "    y_bias = (np.nanmean(y_test) - np.nanmean(classifier.predict(X_test), axis=0)) **2\n",
        "    y_error = np.nanmean((y_test - classifier.predict(X_test)) **2, axis=0)#.mean()\n",
        "    y_var = np.nanvar(classifier.predict(X_test), axis=0, ddof = 1)\n",
        "    print(np.nanmean(y_bias) +  np.nanmean(y_var))\n",
        "    clf_type = \"Decision tree\"\n",
        "    print(\"{0}: {1:.4f} (error) = {2:.4f} (bias^2) \"\n",
        "              \"+ {3:.4f} (var)\".format(clf_type, np.nanmean(y_error), np.nanmean(y_bias), np.nanmean(y_var)))\n",
        "    print(\"{0}: {1:.4f} ((bias^2) + (var)) = {2:.4f} (bias^2) \"\n",
        "              \"+ {3:.4f} (var)\".format(clf_type, np.mean(y_bias) + np.mean(y_var), np.mean(y_bias), np.mean(y_var)))"
      ],
      "execution_count": null,
      "outputs": []
    },
    {
      "cell_type": "code",
      "metadata": {
        "id": "OTztq9mjz7GV"
      },
      "source": [
        "importance = grid_search.best_estimator_.feature_importances_\n",
        "importance_sorted = []\n",
        "for i,v in enumerate(importance):\n",
        "    importance_sorted.append((v,i))\n",
        "# plot feature importance\n",
        "plt.bar([x for x in range(len(importance))], importance)\n",
        "plt.show()\n",
        "sorted(importance_sorted, reverse=True)"
      ],
      "execution_count": null,
      "outputs": []
    },
    {
      "cell_type": "code",
      "metadata": {
        "id": "3uaXZraLz-cV"
      },
      "source": [
        "top_x_features(3)"
      ],
      "execution_count": null,
      "outputs": []
    },
    {
      "cell_type": "markdown",
      "metadata": {
        "id": "m62EL_dw0BAW"
      },
      "source": [
        "Index(['euribor3m'], dtype='object')\n",
        "Index(['age'], dtype='object')\n",
        "Index(['nr.employed'], dtype='object')"
      ]
    },
    {
      "cell_type": "code",
      "metadata": {
        "id": "yX-h1vAB0DGD"
      },
      "source": [
        "genenralizationerror(grid_search)"
      ],
      "execution_count": null,
      "outputs": []
    },
    {
      "cell_type": "markdown",
      "metadata": {
        "id": "mUKKDUSA0D21"
      },
      "source": [
        "0.12254337502065248\n",
        "Decision tree: 0.1277 (error) = 0.0008 (bias^2) + 0.1217 (var)\n",
        "Decision tree: 0.1225 ((bias^2) + (var)) = 0.0008 (bias^2) + 0.1217 (var)"
      ]
    },
    {
      "cell_type": "code",
      "metadata": {
        "id": "MVxmMf3d0F3e"
      },
      "source": [
        "plot_confusion_matrix(grid_search, X, y, cmap=plt.cm.Blues)\n",
        "plt.show()"
      ],
      "execution_count": null,
      "outputs": []
    }
  ]
}